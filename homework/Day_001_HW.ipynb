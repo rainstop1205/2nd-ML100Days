{
 "cells": [
  {
   "cell_type": "markdown",
   "metadata": {},
   "source": [
    "## 練習時間\n",
    "#### 請寫一個函式用來計算 Mean Square Error\n",
    "$ MSE = \\frac{1}{n}\\sum_{i=1}^{n}{(Y_i - \\hat{Y}_i)^2} $\n",
    "\n",
    "### Hint: [如何取平方](https://googoodesign.gitbooks.io/-ezpython/unit-1.html)"
   ]
  },
  {
   "cell_type": "markdown",
   "metadata": {},
   "source": [
    "＜作業1＞\n",
    "---------------\n",
    "請上 Kaggle, 在 Competitions 或 Dataset 中找一組競賽或資料並寫下：https://www.kaggle.com/ronitf/heart-disease-uci\n",
    "\n",
    "1. 你選的這組資料為何重要<br/>\n",
    "   網路上已有非常多心臟疾病相關的資料集，但這組資料相對齊全，且較具公信力（UCI Machine Learning Repository），<br/>\n",
    "   也有在持續更新（Last updated:2018-06-25）。\n",
    "\n",
    "\n",
    "2. 資料從何而來 (tips: 譬如提供者是誰、以什麼方式蒐集)<br/>\n",
    "   ##### Creators\n",
    "   * Hungarian Institute of Cardiology. Budapest: Andras Janosi, M.D.\n",
    "   * University Hospital, Zurich, Switzerland: William Steinbrunn, M.D.\n",
    "   * University Hospital, Basel, Switzerland: Matthias Pfisterer, M.D.\n",
    "   * V.A. Medical Center, Long Beach and Cleveland Clinic Foundation: Robert Detrano, M.D., Ph.D.\n",
    "   \n",
    "   ##### Model\n",
    "   * https://www.kaggle.com/tentotheminus9/what-causes-heart-disease-explaining-the-model\n",
    "\n",
    "\n",
    "3. 蒐集而來的資料型態為何<br/>\n",
    "   .csv檔案\n",
    "\n",
    "\n",
    "4. 這組資料想解決的問題如何評估<br/>\n",
    "   主要用來研究什麼樣的狀況（年齡、性別、各種生理量測數值）有較高機率引發心臟疾病，找出高風險族群並加以預防；\n",
    "   其中大多數published experiments使用該dataset中的14種attributes，可見其公信力。\n",
    "\n",
    "\n",
    "＜作業2＞\n",
    "---------------\n",
    "想像你經營一個自由載客車隊，你希望能透過數據分析以提升業績，請你思考並描述你如何規劃整體的分析/解決方案：\n",
    "\n",
    "1. 核心問題為何 (tips：如何定義 「提升業績 & 你的假設」)\n",
    "   * 提升業績 <br/>\n",
    "   首先，可以將服務對象分為該服務的「提供者（司機）」及「接受者（乘客）」；業績則是包含了「數量」和「品質」。<br/>\n",
    "   若想提升業績，可以選擇：<br/>\n",
    "   (1) 增加「數量」=> 聘僱更多的司機以及增加客源。<br/>\n",
    "   (2) 增加「品質」=> 提高單價。\n",
    "   * 我的假設<br/>\n",
    "   (1) 司機數量 = x <br/>\n",
    "   (2) 固定客源 = a <br/>\n",
    "   (3) 流動客源 = b <br/>\n",
    "   (4) 平均單趟售價 = y <br/>\n",
    "   其中(1)、(2)、(3)為「數量」範疇；(4)為「品質」範疇。<br/>\n",
    "   若要提升業績，必須提升任一項數值，但需特別注意：不能只增加x而不增加a或b，必須呈一定比例，否則會導致供過於求。\n",
    "\n",
    "\n",
    "2. 資料從何而來 (tips：哪些資料可能會對你想問的問題產生影響 & 資料如何蒐集)<br/>\n",
    "   影響客源的因素非常多，像是天氣、時間（尖峰/離峰時段）、地點（市區/郊區/商業區...）、個人經濟能力、公共運輸狀況等等，<br/>\n",
    "   這些資料部份能透過相關app或網站取得統計資料，例如從氣象局網站取得天氣資料、從交通部網站取得交通運輸資料、從其他類似服務的app<br/>\n",
    "   抓取統計資料等等。\n",
    "\n",
    "\n",
    "3. 蒐集而來的資料型態為何<br/>\n",
    "   int, float, char, list, boolean, etc.\n",
    "\n",
    "\n",
    "4. 你要回答的問題，其如何評估 (tips：你的假設如何驗證)<br/>\n",
    "   將蒐集到的資料進行整理，並做調整（修改假設變數等等），計算是否有提高收益。\n"
   ]
  },
  {
   "cell_type": "code",
   "execution_count": 2,
   "metadata": {},
   "outputs": [],
   "source": [
    "import numpy as np\n",
    "import matplotlib.pyplot as plt"
   ]
  },
  {
   "cell_type": "code",
   "execution_count": 67,
   "metadata": {},
   "outputs": [
    {
     "data": {
      "image/png": "[encoded data removed]",
      "text/plain": [
       "<Figure size 432x288 with 1 Axes>"
      ]
     },
     "metadata": {},
     "output_type": "display_data"
    }
   ],
   "source": [
    "w = 3\n",
    "b = 0.5\n",
    "\n",
    "x_lin = np.linspace(0, 100, 101)\n",
    "\n",
    "y = (x_lin + np.random.randn(101) * 5) * w + b\n",
    "\n",
    "plt.plot(x_lin, y, 'b.', label = 'data points')\n",
    "plt.title(\"Assume we have data points\")\n",
    "plt.legend(loc = 2)\n",
    "plt.show()"
   ]
  },
  {
   "cell_type": "code",
   "execution_count": 68,
   "metadata": {},
   "outputs": [
    {
     "data": {
      "image/png": "[encoded data removed]",
      "text/plain": [
       "<Figure size 432x288 with 1 Axes>"
      ]
     },
     "metadata": {},
     "output_type": "display_data"
    }
   ],
   "source": [
    "y_hat = x_lin * w + b\n",
    "plt.plot(x_lin, y, 'b.', label = 'data')\n",
    "plt.plot(x_lin, y_hat, 'r-', label = 'prediction')\n",
    "plt.title(\"Assume we have data points (And the prediction)\")\n",
    "plt.legend(loc = 2)\n",
    "plt.show()"
   ]
  },
  {
   "cell_type": "code",
   "execution_count": 69,
   "metadata": {},
   "outputs": [
    {
     "name": "stdout",
     "output_type": "stream",
     "text": [
      "The Mean square error is 236.455\n",
      "The Mean absolute error is 12.594\n"
     ]
    }
   ],
   "source": [
    "def mean_squared_error(y, yp):\n",
    "    \"\"\"\n",
    "    請完成這個 Function 後往下執行\n",
    "    \"\"\"\n",
    "    mse = sum((y - yp)**2) / len(y)\n",
    "    return mse\n",
    "\n",
    "MSE = mean_squared_error(y, y_hat)\n",
    "print(\"The Mean square error is %.3f\" % (MSE))\n",
    "\n",
    "def mean_absolute_error(y, yp):\n",
    "    \"\"\"\n",
    "    計算 MAE\n",
    "    Args:\n",
    "        - y: 實際值\n",
    "        - yp: 預測值\n",
    "    Return:\n",
    "        - mae: MAE\n",
    "    \"\"\"\n",
    "    mae = MAE = sum(abs(y - yp)) / len(y)\n",
    "    return mae\n",
    "\n",
    "MAE = mean_absolute_error(y, y_hat)\n",
    "print(\"The Mean absolute error is %.3f\" % (MAE))"
   ]
  },
  {
   "cell_type": "code",
   "execution_count": 70,
   "metadata": {},
   "outputs": [
    {
     "name": "stdout",
     "output_type": "stream",
     "text": [
      "The Mean squared error is 236.455\n",
      "The Mean absolute error is 12.594\n"
     ]
    }
   ],
   "source": [
    "# 執行 Function, 確認有沒有正常執行\n",
    "MSE = mean_squared_error(y, y_hat)\n",
    "MAE = mean_absolute_error(y, y_hat)\n",
    "print(\"The Mean squared error is %.3f\" % (MSE))\n",
    "print(\"The Mean absolute error is %.3f\" % (MAE))"
   ]
  }
 ],
 "metadata": {
  "anaconda-cloud": {},
  "kernelspec": {
   "display_name": "Python 3",
   "language": "python",
   "name": "python3"
  },
  "language_info": {
   "codemirror_mode": {
    "name": "ipython",
    "version": 3
   },
   "file_extension": ".py",
   "mimetype": "text/x-python",
   "name": "python",
   "nbconvert_exporter": "python",
   "pygments_lexer": "ipython3",
   "version": "3.6.5"
  }
 },
 "nbformat": 4,
 "nbformat_minor": 1
}
